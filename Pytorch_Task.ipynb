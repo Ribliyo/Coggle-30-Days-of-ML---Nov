{
  "nbformat": 4,
  "nbformat_minor": 0,
  "metadata": {
    "colab": {
      "name": "Pytorch-Task.ipynb",
      "provenance": []
    },
    "kernelspec": {
      "name": "python3",
      "display_name": "Python 3"
    },
    "language_info": {
      "name": "python"
    }
  },
  "cells": [
    {
      "cell_type": "markdown",
      "metadata": {
        "id": "WTXs9VWEr6IQ"
      },
      "source": [
        "*Task 1*"
      ]
    },
    {
      "cell_type": "code",
      "metadata": {
        "id": "ySf1UrMJrPJd"
      },
      "source": [
        "import torch\n",
        "import numpy as np\n",
        "import random"
      ],
      "execution_count": 65,
      "outputs": []
    },
    {
      "cell_type": "code",
      "metadata": {
        "id": "PeqSUxFsrYOV"
      },
      "source": [
        "c = np.ones((3,3))"
      ],
      "execution_count": 2,
      "outputs": []
    },
    {
      "cell_type": "code",
      "metadata": {
        "id": "PEHdRn6rrl_i"
      },
      "source": [
        "d = torch.from_numpy(c)"
      ],
      "execution_count": 3,
      "outputs": []
    },
    {
      "cell_type": "code",
      "metadata": {
        "colab": {
          "base_uri": "https://localhost:8080/"
        },
        "id": "91O5-Qidrwcn",
        "outputId": "c8066404-b17f-4395-8b3f-e7194901f3e6"
      },
      "source": [
        "d.shape"
      ],
      "execution_count": 18,
      "outputs": [
        {
          "output_type": "execute_result",
          "data": {
            "text/plain": [
              "torch.Size([3, 3])"
            ]
          },
          "metadata": {},
          "execution_count": 18
        }
      ]
    },
    {
      "cell_type": "markdown",
      "metadata": {
        "id": "WQRy0CG7r-IP"
      },
      "source": [
        "Task 2"
      ]
    },
    {
      "cell_type": "markdown",
      "metadata": {
        "id": "Qq49M88LNnl0"
      },
      "source": [
        "参考: https://zh-v2.d2l.ai/chapter_linear-networks/linear-regression-scratch.html"
      ]
    },
    {
      "cell_type": "code",
      "metadata": {
        "colab": {
          "base_uri": "https://localhost:8080/"
        },
        "id": "FlFKZq5erxNA",
        "outputId": "b0df6d28-67f7-4a40-a1f9-6c226b089aa9"
      },
      "source": [
        "x = torch.arange(0, 100, 1.0).reshape(-1, 1)\n",
        "# x = torch.arange(0, 100, 0.01).reshape(-1, 1)\n",
        "true_w = torch.tensor([10.0])\n",
        "true_b = 5.0\n",
        "\n",
        "y = torch.matmul(x, true_w) + true_b + torch.rand(len(x))\n",
        "y = y.reshape((-1, 1))\n",
        "\n",
        "print(y.shape)\n",
        "print(y)"
      ],
      "execution_count": 119,
      "outputs": [
        {
          "output_type": "stream",
          "name": "stdout",
          "text": [
            "torch.Size([100, 1])\n",
            "tensor([[  5.4486],\n",
            "        [ 15.8055],\n",
            "        [ 25.5127],\n",
            "        [ 35.0496],\n",
            "        [ 45.9990],\n",
            "        [ 55.5986],\n",
            "        [ 65.1468],\n",
            "        [ 75.3579],\n",
            "        [ 85.0197],\n",
            "        [ 95.1428],\n",
            "        [105.3848],\n",
            "        [115.7627],\n",
            "        [125.7779],\n",
            "        [135.2398],\n",
            "        [145.1631],\n",
            "        [155.2390],\n",
            "        [165.0650],\n",
            "        [175.7670],\n",
            "        [185.4457],\n",
            "        [195.8557],\n",
            "        [205.6063],\n",
            "        [215.0379],\n",
            "        [225.2259],\n",
            "        [235.0730],\n",
            "        [245.3627],\n",
            "        [255.5756],\n",
            "        [265.3289],\n",
            "        [275.9504],\n",
            "        [285.1467],\n",
            "        [295.2461],\n",
            "        [305.8420],\n",
            "        [315.5922],\n",
            "        [325.9077],\n",
            "        [335.4059],\n",
            "        [345.5045],\n",
            "        [355.6310],\n",
            "        [365.6233],\n",
            "        [375.4219],\n",
            "        [385.5858],\n",
            "        [395.5213],\n",
            "        [405.5627],\n",
            "        [415.2932],\n",
            "        [425.2245],\n",
            "        [435.9653],\n",
            "        [445.5191],\n",
            "        [455.2238],\n",
            "        [465.2867],\n",
            "        [475.6849],\n",
            "        [485.5094],\n",
            "        [495.8802],\n",
            "        [505.1778],\n",
            "        [515.3605],\n",
            "        [525.5021],\n",
            "        [535.3243],\n",
            "        [545.4644],\n",
            "        [555.6096],\n",
            "        [565.3350],\n",
            "        [575.2957],\n",
            "        [585.8321],\n",
            "        [595.0312],\n",
            "        [605.4809],\n",
            "        [615.6467],\n",
            "        [625.9831],\n",
            "        [635.4955],\n",
            "        [645.1536],\n",
            "        [655.4899],\n",
            "        [665.2665],\n",
            "        [675.6961],\n",
            "        [685.8317],\n",
            "        [695.0099],\n",
            "        [705.8494],\n",
            "        [715.4523],\n",
            "        [725.9592],\n",
            "        [735.5054],\n",
            "        [745.7046],\n",
            "        [755.5423],\n",
            "        [765.8919],\n",
            "        [775.6451],\n",
            "        [785.3173],\n",
            "        [795.1645],\n",
            "        [805.3140],\n",
            "        [815.3086],\n",
            "        [825.6950],\n",
            "        [835.9647],\n",
            "        [845.3080],\n",
            "        [855.6757],\n",
            "        [865.6598],\n",
            "        [875.6419],\n",
            "        [885.6111],\n",
            "        [895.7184],\n",
            "        [905.2352],\n",
            "        [915.5479],\n",
            "        [925.4806],\n",
            "        [935.3331],\n",
            "        [945.2527],\n",
            "        [955.8953],\n",
            "        [965.7698],\n",
            "        [975.4040],\n",
            "        [985.8687],\n",
            "        [995.9496]])\n"
          ]
        }
      ]
    },
    {
      "cell_type": "code",
      "metadata": {
        "colab": {
          "base_uri": "https://localhost:8080/"
        },
        "id": "8pzkPAJjE8Kq",
        "outputId": "d1ebcd73-31c4-47ed-bc54-f3605d54957b"
      },
      "source": [
        "x[0], y[0]"
      ],
      "execution_count": 120,
      "outputs": [
        {
          "output_type": "execute_result",
          "data": {
            "text/plain": [
              "(tensor([0.]), tensor([5.4486]))"
            ]
          },
          "metadata": {},
          "execution_count": 120
        }
      ]
    },
    {
      "cell_type": "code",
      "metadata": {
        "id": "u-hXDe61GVJ_"
      },
      "source": [
        "def data_iter(batch_size, features, labels):\n",
        "    num_examples = len(features)\n",
        "    indices = list(range(num_examples))\n",
        "    # 这些样本是随机读取的，没有特定的顺序\n",
        "    random.shuffle(indices)\n",
        "    for i in range(0, num_examples, batch_size):\n",
        "        batch_indices = torch.tensor(\n",
        "            indices[i: min(i + batch_size, num_examples)])\n",
        "        yield features[batch_indices], labels[batch_indices]"
      ],
      "execution_count": 63,
      "outputs": []
    },
    {
      "cell_type": "code",
      "metadata": {
        "colab": {
          "base_uri": "https://localhost:8080/"
        },
        "id": "wpN-fyOuGdHY",
        "outputId": "798fb06a-6d63-47f1-d168-24cc4be6e711"
      },
      "source": [
        "batch_size = 10\n",
        "\n",
        "for x_batch, y_batch in data_iter(batch_size, x, y):\n",
        "    print(x_batch)\n",
        "    # print(x_batch, '\\n', y)\n",
        "    break"
      ],
      "execution_count": 123,
      "outputs": [
        {
          "output_type": "stream",
          "name": "stdout",
          "text": [
            "tensor([[40.],\n",
            "        [16.],\n",
            "        [62.],\n",
            "        [22.],\n",
            "        [12.],\n",
            "        [33.],\n",
            "        [18.],\n",
            "        [20.],\n",
            "        [69.],\n",
            "        [71.]])\n"
          ]
        }
      ]
    },
    {
      "cell_type": "code",
      "metadata": {
        "id": "bLrIhf8Q-hwq"
      },
      "source": [
        "def linreg(x, w, b):\n",
        "    return torch.matmul(x, w) + b"
      ],
      "execution_count": 124,
      "outputs": []
    },
    {
      "cell_type": "code",
      "metadata": {
        "id": "UnzkMjz2CT2K"
      },
      "source": [
        "def squared_loss(y_hat, y):\n",
        "    return (y_hat - y.reshape(y_hat.shape)) ** 2 / 2"
      ],
      "execution_count": 125,
      "outputs": []
    },
    {
      "cell_type": "code",
      "metadata": {
        "id": "IopmTptrHRqc"
      },
      "source": [
        "def sgd(params, lr, batch_size):\n",
        "    \"\"\"小批量随机梯度下降。\"\"\"\n",
        "    with torch.no_grad():\n",
        "        for param in params:\n",
        "            param -= lr * param.grad / batch_size\n",
        "            param.grad.zero_()"
      ],
      "execution_count": 126,
      "outputs": []
    },
    {
      "cell_type": "code",
      "metadata": {
        "colab": {
          "base_uri": "https://localhost:8080/"
        },
        "id": "AxBkWDY9DiQD",
        "outputId": "eee74666-4789-4147-b225-7add452c314a"
      },
      "source": [
        "lr = 0.0001\n",
        "num_epochs = 10\n",
        "net = linreg\n",
        "loss = squared_loss\n",
        "\n",
        "batch_size = 10\n",
        "\n",
        "w = torch.normal(0, 0.01, size=(1,1), requires_grad=True)\n",
        "b = torch.zeros(1, requires_grad=True)\n",
        "\n",
        "for epoch in range(num_epochs):\n",
        "    for x_batch, y_batch in data_iter(batch_size, x, y):\n",
        "        z = net(x_batch, w, b)\n",
        "        # print(z)\n",
        "        l = loss(z, y_batch)  # `X`和`y`的小批量损失\n",
        "        # 因为`l`形状是(`batch_size`, 1)，而不是一个标量。`l`中的所有元素被加到一起，\n",
        "        # 并以此计算关于[`w`, `b`]的梯度\n",
        "        l.sum().backward()\n",
        "        sgd([w, b], lr, batch_size)  # 使用参数的梯度更新参数\n",
        "        # print(w, b)\n",
        "    with torch.no_grad():\n",
        "        train_l = loss(net(x, w, b), y)\n",
        "        print(f'epoch {epoch + 1}, loss {float(train_l.mean()):f}')\n",
        "        print(f'w: {w}, b: {b}')"
      ],
      "execution_count": 127,
      "outputs": [
        {
          "output_type": "stream",
          "name": "stdout",
          "text": [
            "epoch 1, loss 47.715626\n",
            "w: tensor([[9.9171]], requires_grad=True), b: tensor([0.1521], requires_grad=True)\n",
            "epoch 2, loss 3.535384\n",
            "w: tensor([[10.0816]], requires_grad=True), b: tensor([0.1560], requires_grad=True)\n",
            "epoch 3, loss 3.552594\n",
            "w: tensor([[10.0776]], requires_grad=True), b: tensor([0.1572], requires_grad=True)\n",
            "epoch 4, loss 3.580731\n",
            "w: tensor([[10.0865]], requires_grad=True), b: tensor([0.1587], requires_grad=True)\n",
            "epoch 5, loss 3.530552\n",
            "w: tensor([[10.0802]], requires_grad=True), b: tensor([0.1600], requires_grad=True)\n",
            "epoch 6, loss 3.529698\n",
            "w: tensor([[10.0799]], requires_grad=True), b: tensor([0.1613], requires_grad=True)\n",
            "epoch 7, loss 3.539842\n",
            "w: tensor([[10.0839]], requires_grad=True), b: tensor([0.1627], requires_grad=True)\n",
            "epoch 8, loss 3.538150\n",
            "w: tensor([[10.0839]], requires_grad=True), b: tensor([0.1640], requires_grad=True)\n",
            "epoch 9, loss 3.524020\n",
            "w: tensor([[10.0799]], requires_grad=True), b: tensor([0.1653], requires_grad=True)\n",
            "epoch 10, loss 3.524725\n",
            "w: tensor([[10.0793]], requires_grad=True), b: tensor([0.1666], requires_grad=True)\n"
          ]
        }
      ]
    },
    {
      "cell_type": "code",
      "metadata": {
        "id": "zysPEnrXNu0b"
      },
      "source": [
        ""
      ],
      "execution_count": null,
      "outputs": []
    }
  ]
}
